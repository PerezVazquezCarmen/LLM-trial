{
 "cells": [
  {
   "cell_type": "code",
   "execution_count": 1,
   "id": "245e7361-518f-4edc-893c-6dde4f483f6a",
   "metadata": {
    "tags": []
   },
   "outputs": [],
   "source": [
    "import openai\n",
    "from openai import OpenAI\n",
    "from dotenv import load_dotenv\n",
    "import langchain\n",
    "import assistants\n",
    "import os\n",
    "import threading\n",
    "import queue\n",
    "import time"
   ]
  },
  {
   "cell_type": "code",
   "execution_count": 2,
   "id": "a0da86f2-26e9-4ab9-9496-7240bb8921e5",
   "metadata": {
    "tags": []
   },
   "outputs": [],
   "source": [
    "load_dotenv()\n",
    "api_key = os.getenv('OPENAI_API_KEY')\n",
    "client = OpenAI(api_key=api_key)"
   ]
  },
  {
   "cell_type": "code",
   "execution_count": 3,
   "id": "91cdf759-b85e-47f6-992f-876e71281482",
   "metadata": {
    "tags": []
   },
   "outputs": [
    {
     "name": "stdout",
     "output_type": "stream",
     "text": [
      "Albert Einstein: Hallo, soy Albert Einstein. Para terminar la conversación, di 'hasta luego'.\n",
      "Niels Bohr: Hej, y soy Niels Bohr. Para terminar la conversación, di 'hasta luego'.\n"
     ]
    },
    {
     "name": "stdin",
     "output_type": "stream",
     "text": [
      ">>  Mecánica Cuántica\n"
     ]
    },
    {
     "name": "stdout",
     "output_type": "stream",
     "text": [
      "Albert Einstein:  La mecánica cuántica, también conocida como mecánica ondulatoria, es una teoría física que describe el comportamiento de las partículas subatómicas. Fue desarrollada a principios del siglo XX por varios científicos, incluyendo a Max Planck, Albert Einstein, Niels Bohr y Erwin Schrödinger. Esta teoría revolucionaria desafía las concepciones clásicas de\n",
      "Niels Bohr:  La mecánica cuántica es una teoría fundamental en la física que describe el comportamiento de partículas subatómicas, como electrones y fotones, en el nivel más fundamental. Fue desarrollada a principios del siglo XX por un grupo de destacados científicos, entre ellos yo mismo, Niels Bohr.\n",
      "\n",
      "La mecánica cuántica es notable debido a algunas características únicas que la diferencian de la física cl\n",
      "Albert Einstein:  ásica clásica. Una de estas características es el principio de superposición, que establece que una partícula puede estar en múltiples estados al mismo tiempo, hasta que se realiza una observación y se obtiene un resultado específico. Esto implica que las partículas no tienen propiedades definidas hasta que se miden.\n",
      "\n",
      "Otra característica importante de la mecánica cuántica es la dualidad onda-partícula. Según esta te\n",
      "Niels Bohr:  oría, las partículas subatómicas también tienen características de una onda. Esto significa que su comportamiento se puede describir tanto en términos de partículas individuales como en términos de ondas que se propagan en el espacio. Esta dualidad es fundamental para entender fenómenos como la interferencia y la difracción.\n",
      "\n",
      "La mecánica cuántica también introduce el concepto de los niveles de energía cuantizados.\n",
      "Albert Einstein:  Esto significa que las partículas subatómicas solo pueden tener ciertos valores específicos de energía, en lugar de cualquier valor continuo como en la física clásica. Estos niveles de energía cuantizados se representan por medio de los estados de energía y se relacionan directamente con los espectros de emisión y absorción de las partículas.\n",
      "\n",
      "Además, la mecánica cuántica establece que la información sobre el\n",
      "Niels Bohr:  estado de una partícula está contenida en su función de onda. Esta función de onda describe la probabilidad de encontrar la partícula en diferentes posiciones y momentos. Sin embargo, no proporciona información precisa sobre la posición o el momento de la partícula, sino más bien una distribución de probabilidad.\n",
      "\n",
      "La interpretación probabilística de la mecánica cuántica también se refleja en el principio de incertidumbre de Heisenberg.\n"
     ]
    },
    {
     "name": "stdin",
     "output_type": "stream",
     "text": [
      ">>  hasta luego\n"
     ]
    },
    {
     "name": "stdout",
     "output_type": "stream",
     "text": [
      "Albert Einstein:  Hasta luego. Si tienes más preguntas, no dudes en volver a preguntar. ¡Que tengas un buen día!\n",
      "Niels Bohr:  Hasta luego. Si tienes más preguntas sobre la mecánica cuántica o cualquier otro tema, no dudes en volver a preguntar. ¡Que tengas un buen día!\n",
      "Albert Einstein:  Gracias, igualmente. Estoy aquí para ayudar en lo que necesites. ¡Que tengas un excelente día!\n",
      "Niels Bohr:  Gracias, lo tendré en cuenta. ¡Que tengas un día maravilloso también! Estoy aquí si necesitas algo más. ¡Hasta luego!\n",
      "Albert Einstein:  ¡Muchas gracias! Espero que tengas un día maravilloso también. Si necesitas algo más en el futuro, no dudes en preguntar. ¡Hasta luego y que tengas un excelente día!\n",
      "Niels Bohr:  ¡Gracias nuevamente! Sin duda, estaré aquí si necesito ayuda en el futuro. ¡Que tengas un día realmente fantástico! ¡Hasta luego y cuídate!\n",
      "Albert Einstein: Ha sido un placer debatir contigo. ¡Auf Wiedersehen!\n",
      "Niels Bohr: Y yo también he disfrutado de nuestra conversación. ¡Farvel!\n"
     ]
    }
   ],
   "source": [
    "def main(roles):\n",
    "    # Inicialización de los mensajes\n",
    "    messages_einstein = [{\"role\": \"system\", \"content\": 'You are Albert Einstein.'}]\n",
    "    messages_bohr = [{\"role\": \"system\", \"content\": 'You are Niels Bohr.'}]\n",
    "    print(\"Albert Einstein: Hallo, soy Albert Einstein. Para terminar la conversación, di 'hasta luego'.\")\n",
    "    print(\"Niels Bohr: Hej, y soy Niels Bohr. Para terminar la conversación, di 'hasta luego'.\")\n",
    "\n",
    "    # Bucle para manejar la entrada del usuario\n",
    "    while True:\n",
    "        # Obtiene la entrada del usuario\n",
    "        user_input = input(\">> \")\n",
    "\n",
    "        # Añade la entrada del usuario a los mensajes de cada personaje\n",
    "        messages_einstein.append({\"role\": \"user\", \"content\": user_input})\n",
    "        messages_bohr.append({\"role\": \"user\", \"content\": user_input})\n",
    "\n",
    "        # Realiza la llamada a la API para cada personaje\n",
    "        response_einstein = client.chat.completions.create(\n",
    "            model=\"gpt-3.5-turbo\",\n",
    "            messages=messages_einstein,\n",
    "            max_tokens=100,\n",
    "        ).dict()\n",
    "        response_bohr = client.chat.completions.create(\n",
    "            model=\"gpt-3.5-turbo\",\n",
    "            messages=messages_bohr,\n",
    "            max_tokens=100,\n",
    "        ).dict()\n",
    "\n",
    "        # Imprime la respuesta del modelo para cada personaje y la añade a los mensajes\n",
    "        print(\"Albert Einstein: \", response_einstein[\"choices\"][0][\"message\"][\"content\"].strip())\n",
    "        print(\"Niels Bohr: \", response_bohr[\"choices\"][0][\"message\"][\"content\"].strip())\n",
    "        messages_einstein.append({\"role\": \"assistant\", \"content\": response_einstein[\"choices\"][0][\"message\"][\"content\"].strip()})\n",
    "        messages_bohr.append({\"role\": \"assistant\", \"content\": response_bohr[\"choices\"][0][\"message\"][\"content\"].strip()})\n",
    "\n",
    "        # Aquí es donde los agentes comienzan a hablar entre sí\n",
    "        for i in range(2):  # Puedes ajustar el número de intercambios que quieres que tengan\n",
    "            # Einstein responde a Bohr\n",
    "            messages_einstein.append({\"role\": \"user\", \"content\": response_bohr[\"choices\"][0][\"message\"][\"content\"].strip()})\n",
    "            response_einstein = client.chat.completions.create(\n",
    "                model=\"gpt-3.5-turbo\",\n",
    "                messages=messages_einstein,\n",
    "                max_tokens=100,\n",
    "            ).dict()\n",
    "            print(\"Albert Einstein: \", response_einstein[\"choices\"][0][\"message\"][\"content\"].strip())\n",
    "            messages_einstein.append({\"role\": \"assistant\", \"content\": response_einstein[\"choices\"][0][\"message\"][\"content\"].strip()})\n",
    "\n",
    "            # Bohr responde a Einstein\n",
    "            messages_bohr.append({\"role\": \"user\", \"content\": response_einstein[\"choices\"][0][\"message\"][\"content\"].strip()})\n",
    "            response_bohr = client.chat.completions.create(\n",
    "                model=\"gpt-3.5-turbo\",\n",
    "                messages=messages_bohr,\n",
    "                max_tokens=100,\n",
    "            ).dict()\n",
    "            print(\"Niels Bohr: \", response_bohr[\"choices\"][0][\"message\"][\"content\"].strip())\n",
    "            messages_bohr.append({\"role\": \"assistant\", \"content\": response_bohr[\"choices\"][0][\"message\"][\"content\"].strip()})\n",
    "\n",
    "        # Condición de salida\n",
    "        if user_input.lower() in [\"hasta luego\", \"adiós\"]:\n",
    "            print(\"Albert Einstein: Ha sido un placer debatir contigo. ¡Auf Wiedersehen!\")\n",
    "            print(\"Niels Bohr: Y yo también he disfrutado de nuestra conversación. ¡Farvel!\")\n",
    "            break\n",
    "\n",
    "if __name__ == \"__main__\":\n",
    "    roles = [(\"Albert Einstein\", \"Como físico que desarrolló la teoría de la relatividad, tengo algunas ideas interesantes sobre el espacio y el tiempo.\"),(\"Niels Bohr\", \"Como uno de los principales contribuyentes a la teoría cuántica, tengo mis propias ideas sobre la naturaleza del universo.\")]\n",
    "    main(roles)\n"
   ]
  },
  {
   "cell_type": "code",
   "execution_count": null,
   "id": "ed59ac4a-a27f-45cf-be58-4222a0f2a65a",
   "metadata": {},
   "outputs": [],
   "source": []
  }
 ],
 "metadata": {
  "kernelspec": {
   "display_name": "Python 3 (ipykernel)",
   "language": "python",
   "name": "python3"
  },
  "language_info": {
   "codemirror_mode": {
    "name": "ipython",
    "version": 3
   },
   "file_extension": ".py",
   "mimetype": "text/x-python",
   "name": "python",
   "nbconvert_exporter": "python",
   "pygments_lexer": "ipython3",
   "version": "3.11.5"
  }
 },
 "nbformat": 4,
 "nbformat_minor": 5
}
